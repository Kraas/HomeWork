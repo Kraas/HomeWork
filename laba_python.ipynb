{
 "cells": [
  {
   "cell_type": "code",
   "execution_count": null,
   "metadata": {},
   "outputs": [],
   "source": [
    "# 1. Дан произвольный список, содержащий только числа. Выведите результат сложения всех чисел больше 10.\n"
   ]
  },
  {
   "cell_type": "code",
   "execution_count": 1,
   "metadata": {
    "scrolled": true
   },
   "outputs": [
    {
     "data": {
      "text/plain": [
       "177"
      ]
     },
     "execution_count": 1,
     "metadata": {},
     "output_type": "execute_result"
    }
   ],
   "source": [
    "list_ = [10, 123, 2, 43, 1, 11]\n",
    "sum_list =  0\n",
    "for i in list_:\n",
    "    if int(i) > 10:\n",
    "        sum_list += i\n",
    "sum_list"
   ]
  },
  {
   "cell_type": "code",
   "execution_count": null,
   "metadata": {},
   "outputs": [],
   "source": []
  },
  {
   "cell_type": "code",
   "execution_count": null,
   "metadata": {},
   "outputs": [],
   "source": [
    "# 2. Пусть задан список, содержащий строки. Выведите все строки, заканчивающиеся буковой r."
   ]
  },
  {
   "cell_type": "code",
   "execution_count": 2,
   "metadata": {},
   "outputs": [
    {
     "name": "stdout",
     "output_type": "stream",
     "text": [
      "sdofiar\n",
      "askdjkshfr\n"
     ]
    }
   ],
   "source": [
    "example = ['asdwufhiau','sdofiar','asduuw','asiiwqpiikkds', 'askdjkshfr']\n",
    "\n",
    "for i  in example:\n",
    "    if i[-1] == 'r':\n",
    "        print (i)\n"
   ]
  },
  {
   "cell_type": "code",
   "execution_count": null,
   "metadata": {},
   "outputs": [],
   "source": []
  },
  {
   "cell_type": "code",
   "execution_count": null,
   "metadata": {},
   "outputs": [],
   "source": [
    "# 3. Сгенерируйте и выведите cлучайную строку размером 6 символов, содержащую только цифры. Строка должна\n",
    "# содержать хотя бы одну цифру 3."
   ]
  },
  {
   "cell_type": "code",
   "execution_count": 3,
   "metadata": {},
   "outputs": [
    {
     "name": "stdout",
     "output_type": "stream",
     "text": [
      "902723\n"
     ]
    }
   ],
   "source": [
    "from random import choice\n",
    "from string import digits\n",
    "\n",
    "print(''.join(choice(digits+'3') for i in range(6)))"
   ]
  },
  {
   "cell_type": "code",
   "execution_count": null,
   "metadata": {},
   "outputs": [],
   "source": []
  },
  {
   "cell_type": "code",
   "execution_count": null,
   "metadata": {},
   "outputs": [],
   "source": []
  },
  {
   "cell_type": "code",
   "execution_count": null,
   "metadata": {},
   "outputs": [],
   "source": [
    "# 4. Пусть дана строка произвольной длины. Выведите информацию о том, сколько в ней символов и сколько слов."
   ]
  },
  {
   "cell_type": "code",
   "execution_count": 4,
   "metadata": {},
   "outputs": [
    {
     "data": {
      "text/plain": [
       "'simbols=64  words=11'"
      ]
     },
     "execution_count": 4,
     "metadata": {},
     "output_type": "execute_result"
    }
   ],
   "source": [
    "example = 'Выведите информацию о том, сколько в ней символов и сколько слов'\n",
    "\n",
    "simbol = len(example)\n",
    "word = len(example.split(' '))\n",
    "result = 'simbols='+ str(simbol) + '  words=' + str(word)\n",
    "result"
   ]
  },
  {
   "cell_type": "code",
   "execution_count": null,
   "metadata": {},
   "outputs": [],
   "source": [
    "# 5. Пусть дана матрица чисел размером NхN. Представьте данную матрицу в виде списка. Выведите результат сложения\n",
    "# всех элементов матрицы."
   ]
  },
  {
   "cell_type": "code",
   "execution_count": 5,
   "metadata": {},
   "outputs": [],
   "source": [
    "import numpy as np"
   ]
  },
  {
   "cell_type": "code",
   "execution_count": 6,
   "metadata": {},
   "outputs": [
    {
     "data": {
      "text/plain": [
       "array([[ 1,  2,  3],\n",
       "       [ 4,  5,  6],\n",
       "       [ 7,  8,  9],\n",
       "       [10, 11, 12]])"
      ]
     },
     "execution_count": 6,
     "metadata": {},
     "output_type": "execute_result"
    }
   ],
   "source": [
    "example = np.array( [ [1, 2, 3], [4, 5, 6], [7, 8, 9], [10, 11, 12] ] )\n",
    "example"
   ]
  },
  {
   "cell_type": "code",
   "execution_count": 7,
   "metadata": {},
   "outputs": [
    {
     "data": {
      "text/plain": [
       "[1, 2, 3, 4, 5, 6, 7, 8, 9, 10, 11, 12]"
      ]
     },
     "execution_count": 7,
     "metadata": {},
     "output_type": "execute_result"
    }
   ],
   "source": [
    "numbers = []\n",
    "for i in example:\n",
    "    for j in i:\n",
    "        numbers.append(j)\n",
    "        \n",
    "numbers"
   ]
  },
  {
   "cell_type": "code",
   "execution_count": 8,
   "metadata": {},
   "outputs": [
    {
     "data": {
      "text/plain": [
       "78"
      ]
     },
     "execution_count": 8,
     "metadata": {},
     "output_type": "execute_result"
    }
   ],
   "source": [
    "sum(numbers)"
   ]
  },
  {
   "cell_type": "code",
   "execution_count": null,
   "metadata": {},
   "outputs": [],
   "source": [
    "# 6. Пусть список студентов представлен в виде структуры [[No, ФИО, Возраст,Группа],[No, ФИО, Возраст, Группа],[No, ФИО,\n",
    "# Возраст, Группа]]. Преобразуйте список в словарь вида: {No: [ФИО, Возраст, Группа], No:[....], No: [....]}"
   ]
  },
  {
   "cell_type": "code",
   "execution_count": 9,
   "metadata": {},
   "outputs": [],
   "source": [
    "example = [[1, 'Гришин Г.Г.', 27, 10],[2, 'Николаев Н.Н.', 35, 11],[3, 'Иванов И.И.', 22, 10]]"
   ]
  },
  {
   "cell_type": "code",
   "execution_count": 10,
   "metadata": {},
   "outputs": [
    {
     "data": {
      "text/plain": [
       "{1: ['Гришин Г.Г.', 27, 10],\n",
       " 2: ['Николаев Н.Н.', 35, 11],\n",
       " 3: ['Иванов И.И.', 22, 10]}"
      ]
     },
     "execution_count": 10,
     "metadata": {},
     "output_type": "execute_result"
    }
   ],
   "source": [
    "changed={}\n",
    "for i in example:\n",
    "    changed.setdefault(i[0], i[1:])\n",
    "    \n",
    "changed"
   ]
  },
  {
   "cell_type": "code",
   "execution_count": null,
   "metadata": {
    "scrolled": true
   },
   "outputs": [],
   "source": []
  },
  {
   "cell_type": "code",
   "execution_count": null,
   "metadata": {},
   "outputs": [],
   "source": [
    "# 7. Добавьте к задаче No6 для словаря возможность (без преобразования словаря обратно в список) изменить группу\n",
    "# студента. Поиск по «ФИО» («ФИО» студента и новый номер группы необходимо ввести с клавиатуры)."
   ]
  },
  {
   "cell_type": "code",
   "execution_count": 11,
   "metadata": {},
   "outputs": [
    {
     "name": "stdout",
     "output_type": "stream",
     "text": [
      "Введите имя студентаНиколаев Н.Н.\n",
      "Введите № группы33\n",
      "33\n"
     ]
    }
   ],
   "source": [
    "name_st = str(input('Введите имя студента'))\n",
    "\n",
    "for key in changed.values():\n",
    "    if key[0] == name_st: \n",
    "        new_group = int(input('Введите № группы'))\n",
    "        key[2] = new_group\n",
    "        print( key[2] )"
   ]
  },
  {
   "cell_type": "code",
   "execution_count": null,
   "metadata": {},
   "outputs": [],
   "source": []
  },
  {
   "cell_type": "code",
   "execution_count": null,
   "metadata": {},
   "outputs": [],
   "source": []
  }
 ],
 "metadata": {
  "kernelspec": {
   "display_name": "Python 3",
   "language": "python",
   "name": "python3"
  },
  "language_info": {
   "codemirror_mode": {
    "name": "ipython",
    "version": 3
   },
   "file_extension": ".py",
   "mimetype": "text/x-python",
   "name": "python",
   "nbconvert_exporter": "python",
   "pygments_lexer": "ipython3",
   "version": "3.6.5"
  }
 },
 "nbformat": 4,
 "nbformat_minor": 2
}
